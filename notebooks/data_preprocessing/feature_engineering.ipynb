{
 "cells": [
  {
   "cell_type": "markdown",
   "metadata": {},
   "source": [
    "## Feature Engineering Steps\n",
    "\n",
    "1. **Split the Data**\n",
    "   - Create train-test split to avoid data leakage.\n",
    "\n",
    "2. **Handle Missing Values**\n",
    "   - Impute missing values (mean, median, mode, predictive models)\n",
    "   - Drop rows or columns with excessive missing data\n",
    "\n",
    "3. **Outlier Detection and Handling**\n",
    "   - Identify outliers using Z-scores, IQR, or visual methods\n",
    "   - Remove or transform outliers as needed\n",
    "\n",
    "4. **Transform Features**\n",
    "   - Log, square root, or exponential transformations for skewed data\n",
    "   - Standardize or normalize features for algorithms sensitive to scaling\n",
    "   - Apply binning for continuous variables when necessary\n",
    "\n",
    "5. **Feature Encoding**\n",
    "   - Label Encoding or One-Hot Encoding for categorical data\n",
    "   - Target Encoding and Frequency Encoding for certain cases\n",
    "\n",
    "6. **Feature Creation**\n",
    "   - Create interaction features or polynomial features\n",
    "   - Extract meaningful datetime features (day, month, year, etc.)\n",
    "   - Aggregate features like sum, mean, and max\n",
    "\n",
    "7. **Feature Selection**\n",
    "   - Analyze correlations and remove highly correlated features\n",
    "   - Use feature importance from models (Random Forest, XGBoost)\n",
    "   - Apply dimensionality reduction techniques (PCA)\n",
    "\n",
    "8. **Handle Class Imbalance (if applicable)**\n",
    "   - Resample using oversampling or undersampling techniques\n",
    "   - Adjust class weights in models\n",
    "\n",
    "9. **Verify Feature Engineering**\n",
    "   - Use cross-validation to validate transformations\n",
    "   - Ensure no data leakage\n"
   ]
  },
  {
   "cell_type": "markdown",
   "metadata": {},
   "source": [
    "## **1. Split the Data**\n",
    "First, split the data into training and testing sets to ensure that all feature engineering steps are applied only on the training set and then replicated on the test set."
   ]
  },
  {
   "cell_type": "code",
   "execution_count": 5,
   "metadata": {},
   "outputs": [],
   "source": [
    "# Train-Test split\n",
    "from sklearn.model_selection import train_test_split\n",
    "import pandas as pd\n",
    "import numpy as np\n",
    "\n",
    "df = pd.read_csv('../../data/data.csv')\n",
    "train_df,test_df = train_test_split(df,test_size=0.2,random_state=42)"
   ]
  },
  {
   "cell_type": "markdown",
   "metadata": {},
   "source": [
    "## **2. Handle Missing Values** ##"
   ]
  },
  {
   "cell_type": "code",
   "execution_count": null,
   "metadata": {},
   "outputs": [
    {
     "data": {
      "text/plain": [
       "id                    0\n",
       "price                 0\n",
       "levy                  0\n",
       "manufacturer          0\n",
       "model                 0\n",
       "manufacturing_year    0\n",
       "category              0\n",
       "leather_interior      0\n",
       "fuel_type             0\n",
       "engine_volume         0\n",
       "distance_travelled    0\n",
       "cylinders             0\n",
       "gear_box_type         0\n",
       "drive_wheels          0\n",
       "doors                 0\n",
       "drive_type            0\n",
       "color                 0\n",
       "airbags               0\n",
       "dtype: int64"
      ]
     },
     "execution_count": 6,
     "metadata": {},
     "output_type": "execute_result"
    }
   ],
   "source": [
    "# Checking for missing values in training dataset\n",
    "train_df.isnull().sum()"
   ]
  },
  {
   "cell_type": "code",
   "execution_count": 7,
   "metadata": {},
   "outputs": [
    {
     "data": {
      "text/plain": [
       "id                    0\n",
       "price                 0\n",
       "levy                  0\n",
       "manufacturer          0\n",
       "model                 0\n",
       "manufacturing_year    0\n",
       "category              0\n",
       "leather_interior      0\n",
       "fuel_type             0\n",
       "engine_volume         0\n",
       "distance_travelled    0\n",
       "cylinders             0\n",
       "gear_box_type         0\n",
       "drive_wheels          0\n",
       "doors                 0\n",
       "drive_type            0\n",
       "color                 0\n",
       "airbags               0\n",
       "dtype: int64"
      ]
     },
     "execution_count": 7,
     "metadata": {},
     "output_type": "execute_result"
    }
   ],
   "source": [
    "# Checking for missing values in test dataset\n",
    "test_df.isnull().sum()"
   ]
  },
  {
   "cell_type": "markdown",
   "metadata": {},
   "source": [
    "## **3. Outlier detection and handling** ##\n",
    "\n",
    "Based on EDA, outliers in features like **price**, **cylinders**, and **doors** should be handled carefully. We’ll only apply outlier removal on train_df and carry over the transformation logic to test_df."
   ]
  }
 ],
 "metadata": {
  "kernelspec": {
   "display_name": "venv",
   "language": "python",
   "name": "python3"
  },
  "language_info": {
   "codemirror_mode": {
    "name": "ipython",
    "version": 3
   },
   "file_extension": ".py",
   "mimetype": "text/x-python",
   "name": "python",
   "nbconvert_exporter": "python",
   "pygments_lexer": "ipython3",
   "version": "3.12.6"
  }
 },
 "nbformat": 4,
 "nbformat_minor": 2
}
